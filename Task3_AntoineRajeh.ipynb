{
 "cells": [
  {
   "cell_type": "code",
   "execution_count": 2,
   "id": "ccae4a6b",
   "metadata": {},
   "outputs": [],
   "source": [
    "import tkinter as tk\n",
    "from tkinter import messagebox\n",
    "import random\n",
    "import string\n",
    "\n",
    "def generate_password(length):\n",
    "    characters = string.ascii_letters + string.digits + string.punctuation\n",
    "    password = ''.join(random.choices(characters, k=length))\n",
    "    return password\n",
    "\n",
    "def generate_and_display_password():\n",
    "    try:\n",
    "        length = int(length_entry.get())\n",
    "        if length <= 0:\n",
    "            messagebox.showerror(\"Error\", \"Please enter a positive integer for password length.\")\n",
    "            return\n",
    "        password = generate_password(length)\n",
    "        password_label.config(text=\"Generated Password: \" + password)\n",
    "    except ValueError:\n",
    "        messagebox.showerror(\"Error\", \"Please enter a valid integer for password length.\")\n",
    "\n",
    "# Create GUI window\n",
    "root = tk.Tk()\n",
    "root.title(\"Password Generator\")\n",
    "\n",
    "# Create widgets\n",
    "length_label = tk.Label(root, text=\"Enter password length:\")\n",
    "length_label.pack()\n",
    "\n",
    "length_entry = tk.Entry(root)\n",
    "length_entry.pack()\n",
    "\n",
    "generate_button = tk.Button(root, text=\"Generate Password\", command=generate_and_display_password)\n",
    "generate_button.pack()\n",
    "\n",
    "password_label = tk.Label(root, text=\"\")\n",
    "password_label.pack()\n",
    "\n",
    "# Run the main event loop\n",
    "root.mainloop()\n"
   ]
  },
  {
   "cell_type": "code",
   "execution_count": null,
   "id": "e7853d37",
   "metadata": {},
   "outputs": [],
   "source": []
  }
 ],
 "metadata": {
  "kernelspec": {
   "display_name": "Python 3 (ipykernel)",
   "language": "python",
   "name": "python3"
  },
  "language_info": {
   "codemirror_mode": {
    "name": "ipython",
    "version": 3
   },
   "file_extension": ".py",
   "mimetype": "text/x-python",
   "name": "python",
   "nbconvert_exporter": "python",
   "pygments_lexer": "ipython3",
   "version": "3.9.13"
  }
 },
 "nbformat": 4,
 "nbformat_minor": 5
}
